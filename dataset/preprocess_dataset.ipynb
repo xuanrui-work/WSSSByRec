{
 "cells": [
  {
   "cell_type": "markdown",
   "metadata": {},
   "source": [
    "This notebook contains the data preprocessing and cleanup codes for the ImageNet-1k dataset. Its main purpose is to select the object of interest (OOI) out of the original dataset and create a new dataset out of it.\n",
    "\n",
    "Its input is the original ImageNet-1k dataset (downloaded from https://huggingface.co/datasets/imagenet-1k/blob/main/data/train_images_0.tar.gz), and its output is a new dataset categorized by either having the OOI (positive class) or not (negative class)."
   ]
  },
  {
   "cell_type": "markdown",
   "metadata": {},
   "source": [
    "#### Import libraries"
   ]
  },
  {
   "cell_type": "code",
   "execution_count": 5,
   "metadata": {},
   "outputs": [],
   "source": [
    "import os\n",
    "import shutil\n",
    "from tqdm import tqdm\n",
    "\n",
    "import numpy as np\n",
    "from PIL import Image\n",
    "np.random.seed(0)"
   ]
  },
  {
   "cell_type": "markdown",
   "metadata": {},
   "source": [
    "#### Settings"
   ]
  },
  {
   "cell_type": "code",
   "execution_count": 6,
   "metadata": {},
   "outputs": [],
   "source": [
    "# dir of the extracted image files\n",
    "images_dir = './dataset/images_train/'\n",
    "# path to the annotations file \"LOC_synset_mapping.txt\"\n",
    "annotations_file = './dataset/LOC_synset_mapping.txt'\n",
    "# object of interest specified by a list of keywords\n",
    "ooi_keywords = [\n",
    "    'english springer',\n",
    "    'welsh springer',\n",
    "    'irish water spaniel',\n",
    "    'brittany spaniel',\n",
    "    'clumber',\n",
    "    'cocker spaniel',\n",
    "    'sussex spaniel',\n",
    "    'german short-haired pointer',\n",
    "    'vizsla',\n",
    "    'chesapeake bay retriever',\n",
    "    'curly-coated retriever',\n",
    "    'flat-coated retriever',\n",
    "    'golden retriever',\n",
    "    'labrador retriever',\n",
    "    'english setter',\n",
    "    'gordon setter',\n",
    "    'irish setter',\n",
    "    'sealyham terrier',\n",
    "    'lakeland terrier',\n",
    "    'american staffordshire terrier',\n",
    "    'staffordshire bullterrier',\n",
    "    'wire-haired fox terrier',\n",
    "    'giant schnauzer',\n",
    "    'miniature schnauzer',\n",
    "    'standard schnauzer',\n",
    "    'airedale',\n",
    "    'australian terrier',\n",
    "    'bedlington terrier',\n",
    "    'border terrier',\n",
    "    'boston bull',\n",
    "    'cairn',\n",
    "    'dandie dinmont',\n",
    "    'irish terrier',\n",
    "    'kerry blue terrier',\n",
    "    'lhasa',\n",
    "    'norfolk terrier',\n",
    "    'norwich terrier',\n",
    "    'scotch terrier',\n",
    "    'silky terrier',\n",
    "    'soft-coated wheaten terrier',\n",
    "    'tibentan terrier',\n",
    "    'west highland white terrier',\n",
    "    'yorkshire terrier',\n",
    "    'black-and-tan coonhound',\n",
    "    'english foxhound',\n",
    "    'walker hound',\n",
    "    'italian greyhound',\n",
    "    'whippet',\n",
    "    'borzoi',\n",
    "    'irish wolfhound',\n",
    "    'afghan hound',\n",
    "    'basset',\n",
    "    'beagle',\n",
    "    'bloodhound',\n",
    "    'bluetick',\n",
    "    'ibizan hound',\n",
    "    'norwegian elkhound',\n",
    "    'otterhound',\n",
    "    'redbone',\n",
    "    'saluki',\n",
    "    'scottish deerhound',\n",
    "    'weimaraner',\n",
    "    'rhodesian ridgeback',\n",
    "    'blenheim spaniel',\n",
    "    'papillon',\n",
    "    'chihuahua',\n",
    "    'japanese spaniel',\n",
    "    'maltese dog',\n",
    "    'pekinese',\n",
    "    'shih-tzu',\n",
    "    'toy terrier',\n",
    "    'groenendael',\n",
    "    'malinois',\n",
    "    'boarder collie',\n",
    "    'bouvier des flandres',\n",
    "    'briard',\n",
    "    'collie',\n",
    "    'german shepherd',\n",
    "    'keipie',\n",
    "    'komondor',\n",
    "    'old english sheepdog',\n",
    "    'rottweiler',\n",
    "    'shetland sheepdog',\n",
    "    'affenpinscher',\n",
    "    'doberman',\n",
    "    'miniature pinscher',\n",
    "    'kuvasz',\n",
    "    'french bulldog',\n",
    "    'tibetan mastiff',\n",
    "    'appenzeller',\n",
    "    'bernese mountain dog',\n",
    "    'entlebucher',\n",
    "    'great swiss mountain dog',\n",
    "    'malamute',\n",
    "    'siberian husky',\n",
    "    'boxer',\n",
    "    'bull mastiff',\n",
    "    'eskimo dog',\n",
    "    'great dane',\n",
    "    'saint bernard',\n",
    "    'cardigan',\n",
    "    'pembroke',\n",
    "    'brabancon griffon',\n",
    "    'miniature poodle',\n",
    "    'standard poodle',\n",
    "    'toy poodle',\n",
    "    'chow',\n",
    "    'keeshond',\n",
    "    'pomeranian',\n",
    "    'samoyed',\n",
    "    'basenji',\n",
    "    'daimatian',\n",
    "    'great pyrenees',\n",
    "    'leonberg',\n",
    "    'mexciain hairless',\n",
    "    'newfoundland',\n",
    "    'pug',\n",
    "]\n",
    "# limit on the max number of samples\n",
    "max_samples = 10000\n",
    "# output dir\n",
    "output_dir = './dataset/preprocessed'\n",
    "\n",
    "neg_dir = os.path.join(output_dir, 'neg')\n",
    "pos_dir = os.path.join(output_dir, 'pos')"
   ]
  },
  {
   "cell_type": "markdown",
   "metadata": {},
   "source": [
    "#### Codes"
   ]
  },
  {
   "cell_type": "code",
   "execution_count": 7,
   "metadata": {},
   "outputs": [],
   "source": [
    "annotations = {}\n",
    "with open(annotations_file, 'r') as f:\n",
    "    for line in f.readlines():\n",
    "        line = line.strip().lower()\n",
    "        id = line.split(' ')[0]\n",
    "        annotations[id] = ' '.join(line.split(' ')[1:]).split(', ')\n",
    "        # print(annotations[id])\n",
    "\n",
    "ooi_id = set()\n",
    "for keyword in ooi_keywords:\n",
    "    for key, value in annotations.items():\n",
    "        if keyword in value:\n",
    "            ooi_id.add(key)\n",
    "if not ooi_id:\n",
    "    raise Warning(f'No object of interest given by {ooi_keywords} found in the annotations file.')"
   ]
  },
  {
   "cell_type": "code",
   "execution_count": 8,
   "metadata": {},
   "outputs": [
    {
     "name": "stdout",
     "output_type": "stream",
     "text": [
      "Collecting positive samples...\n"
     ]
    },
    {
     "name": "stderr",
     "output_type": "stream",
     "text": [
      "49111it [00:00, 334661.45it/s]\n"
     ]
    },
    {
     "name": "stdout",
     "output_type": "stream",
     "text": [
      "Done. 10000 positive samples collected.\n",
      "\n",
      "Randomly collecting negative samples...\n"
     ]
    },
    {
     "name": "stderr",
     "output_type": "stream",
     "text": [
      "100%|██████████| 10000/10000 [00:00<00:00, 265706.12it/s]"
     ]
    },
    {
     "name": "stdout",
     "output_type": "stream",
     "text": [
      "Done. 10000 negative samples collected.\n"
     ]
    },
    {
     "name": "stderr",
     "output_type": "stream",
     "text": [
      "\n"
     ]
    }
   ],
   "source": [
    "images_path = []\n",
    "with os.scandir(images_dir) as it:\n",
    "    for entry in it:\n",
    "        if entry.is_file():\n",
    "            images_path.append(entry.path)\n",
    "\n",
    "print('Collecting positive samples...')\n",
    "pos_samples = []\n",
    "for i, path in tqdm(enumerate(images_path)):\n",
    "    filename = os.path.basename(path)\n",
    "    if filename.split('.')[0].split('_')[0] in ooi_id:\n",
    "        pos_samples.append(path)\n",
    "    if len(pos_samples) >= max_samples:\n",
    "        break\n",
    "print(f'Done. {len(pos_samples)} positive samples collected.')\n",
    "print('')\n",
    "\n",
    "print('Randomly collecting negative samples...')\n",
    "neg_samples = []\n",
    "np.random.shuffle(images_path)\n",
    "i = 0\n",
    "with tqdm(total=len(pos_samples)) as pbar:\n",
    "    while len(neg_samples) < len(pos_samples):\n",
    "        filename = os.path.basename(images_path[i])\n",
    "        if filename.split('.')[0].split('_')[0] not in ooi_id:\n",
    "            neg_samples.append(images_path[i])\n",
    "            pbar.update(1)\n",
    "        i += 1\n",
    "print(f'Done. {len(neg_samples)} negative samples collected.')"
   ]
  },
  {
   "cell_type": "code",
   "execution_count": 9,
   "metadata": {},
   "outputs": [
    {
     "name": "stdout",
     "output_type": "stream",
     "text": [
      "Copying neg samples to output dir...\n"
     ]
    },
    {
     "name": "stderr",
     "output_type": "stream",
     "text": [
      "100%|██████████| 10000/10000 [01:12<00:00, 138.22it/s]\n"
     ]
    },
    {
     "name": "stdout",
     "output_type": "stream",
     "text": [
      "Copying pos samples to output dir...\n"
     ]
    },
    {
     "name": "stderr",
     "output_type": "stream",
     "text": [
      "100%|██████████| 10000/10000 [00:30<00:00, 327.95it/s]"
     ]
    },
    {
     "name": "stdout",
     "output_type": "stream",
     "text": [
      "Done.\n"
     ]
    },
    {
     "name": "stderr",
     "output_type": "stream",
     "text": [
      "\n"
     ]
    }
   ],
   "source": [
    "os.makedirs(neg_dir, exist_ok=True)\n",
    "os.makedirs(pos_dir, exist_ok=True)\n",
    "\n",
    "print('Copying pos samples to output dir...')\n",
    "for path in tqdm(pos_samples):\n",
    "    image = Image.open(path)\n",
    "    if image.mode != 'RGB':\n",
    "        image = image.convert('RGB')\n",
    "    image.save(os.path.join(pos_dir, os.path.basename(path)))\n",
    "print('Copying neg samples to output dir...')\n",
    "for path in tqdm(neg_samples):\n",
    "    image = Image.open(path)\n",
    "    if image.mode != 'RGB':\n",
    "        image = image.convert('RGB')\n",
    "    image.save(os.path.join(neg_dir, os.path.basename(path)))\n",
    "print('Done.')"
   ]
  },
  {
   "cell_type": "code",
   "execution_count": null,
   "metadata": {},
   "outputs": [],
   "source": []
  }
 ],
 "metadata": {
  "kernelspec": {
   "display_name": "Python 3",
   "language": "python",
   "name": "python3"
  },
  "language_info": {
   "codemirror_mode": {
    "name": "ipython",
    "version": 3
   },
   "file_extension": ".py",
   "mimetype": "text/x-python",
   "name": "python",
   "nbconvert_exporter": "python",
   "pygments_lexer": "ipython3",
   "version": "3.10.11"
  }
 },
 "nbformat": 4,
 "nbformat_minor": 2
}
